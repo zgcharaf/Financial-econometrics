{
 "cells": [
  {
   "cell_type": "code",
   "execution_count": 2,
   "id": "b2315035-660d-4f9f-b68c-915e65a968e0",
   "metadata": {},
   "outputs": [],
   "source": [
    "import pandas as pd\n",
    "import statsmodels.api as sm\n",
    "from statsmodels.tsa.stattools import adfuller, coint\n",
    "from statsmodels.tsa.api import VAR\n",
    "from pandas_datareader import data as pdr\n",
    "import datetime\n",
    "from fredapi import Fred\n",
    "import numpy as np"
   ]
  },
  {
   "cell_type": "code",
   "execution_count": 1,
   "id": "0718c9a8-349c-447d-a2a9-1b43cfb2cacd",
   "metadata": {},
   "outputs": [],
   "source": [
    "import matplotlib.pyplot as plt\n"
   ]
  },
  {
   "cell_type": "code",
   "execution_count": 4,
   "id": "3dfa9cb7-58e8-48b3-b377-ef0016d974d7",
   "metadata": {},
   "outputs": [],
   "source": [
    "api_key = '230970faf44ea208229d77dff9f995f3'\n",
    "fred = Fred(api_key=api_key)\n",
    "\n",
    "# Define the series IDs\n",
    "series_ids = {\n",
    "\n",
    "\n",
    "\n",
    "    'USGDP': 'GDPC1',\n",
    "    'ALLUKSHARES': 'SPASTT01GBM661N',\n",
    "    'USD/GBP': 'DEXUSUK',\n",
    "    'CPI': 'GBRCPIALLMINMEI',\n",
    "}\n",
    "\n",
    "# Define the observation period\n",
    "start_date = '2000-01-01'\n",
    "end_date = '2023-10-31'\n",
    "\n",
    "# Download the data\n",
    "data = {}\n",
    "for series_name, series_id in series_ids.items():\n",
    "    data[series_name] = fred.get_series(series_id, start_date, end_date, frequency='q')\n",
    "\n",
    "# Transform the series (log)\n",
    "for series_name, series_data in data.items():\n",
    "    data[series_name] = pd.Series(data[series_name])\n",
    "\n",
    "# Create a DataFrame from the log-transformed data\n",
    "df = pd.DataFrame(data)\n",
    "df=np.log(df.dropna())"
   ]
  }
 ],
 "metadata": {
  "kernelspec": {
   "display_name": "Python 3 (ipykernel)",
   "language": "python",
   "name": "python3"
  },
  "language_info": {
   "codemirror_mode": {
    "name": "ipython",
    "version": 3
   },
   "file_extension": ".py",
   "mimetype": "text/x-python",
   "name": "python",
   "nbconvert_exporter": "python",
   "pygments_lexer": "ipython3",
   "version": "3.9.13"
  }
 },
 "nbformat": 4,
 "nbformat_minor": 5
}
